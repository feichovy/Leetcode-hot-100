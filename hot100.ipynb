{
 "cells": [
  {
   "metadata": {
    "ExecuteTime": {
     "end_time": "2025-05-16T14:34:44.871099Z",
     "start_time": "2025-05-16T14:34:44.866709Z"
    }
   },
   "cell_type": "code",
   "source": [
    "# LeetCode Hot 100\n",
    "# 160 intersection link array\n",
    "class ListNode:\n",
    "    def __init__(self, x):\n",
    "        self.val = x\n",
    "        self.next = None\n",
    "# 双指针， 两个指针一定会相遇， 因为 a + c + b = b + c + a\n",
    "class Solution:\n",
    "    def getIntersectionNode(self, headA: ListNode, headB: ListNode) -> Optional[ListNode]:\n",
    "        if not headA or not headB:\n",
    "            return None\n",
    "\n",
    "        pA = headA\n",
    "        pB = headB\n",
    "\n",
    "        while pA != pB:\n",
    "            pA = pA.next if pA else headB\n",
    "            pB = pB.next if pB else headA\n",
    "\n",
    "        return pA"
   ],
   "id": "a6b3983603d88849",
   "outputs": [],
   "execution_count": 5
  },
  {
   "metadata": {
    "ExecuteTime": {
     "end_time": "2025-05-16T14:34:59.270404Z",
     "start_time": "2025-05-16T14:34:59.266206Z"
    }
   },
   "cell_type": "code",
   "source": [
    "# 234 回文链表\n",
    "# Definition for singly-linked list.\n",
    "class ListNode:\n",
    "    def __init__(self, val=0, next=None):\n",
    "        self.val = val\n",
    "        self.next = next\n",
    "\n",
    "# 快慢指针找中点，反转链表，比较\n",
    "class Solution:\n",
    "    def isPalindrome(self, head: Optional[ListNode]) -> bool:\n",
    "        if not head or not head.next:\n",
    "            return True\n",
    "\n",
    "        slow = fast = head\n",
    "        while fast and fast.next:\n",
    "            slow = slow.next\n",
    "            fast = fast.next.next\n",
    "\n",
    "        prev = None\n",
    "        while slow:\n",
    "            next_node = slow.next\n",
    "            slow.next = prev\n",
    "            prev = slow\n",
    "            slow = next_node\n",
    "        left, right = head, prev\n",
    "        while right:\n",
    "            if left.val == right.val:\n",
    "                left = left.next\n",
    "                right = right.next\n",
    "                continue\n",
    "            else:\n",
    "                return False\n",
    "\n",
    "        return True"
   ],
   "id": "5ae014cf8547fb34",
   "outputs": [
    {
     "name": "stdout",
     "output_type": "stream",
     "text": [
      "Lists OK\n"
     ]
    }
   ],
   "execution_count": 6
  },
  {
   "metadata": {
    "ExecuteTime": {
     "end_time": "2025-05-16T16:06:24.348414Z",
     "start_time": "2025-05-16T16:06:24.310883Z"
    }
   },
   "cell_type": "code",
   "source": [
    "# 70 climbStairs\n",
    "# 动态规划\n",
    "class Solution:\n",
    "    def climbStairs(self, n: int) -> int:\n",
    "        if n <= 2:\n",
    "            return n\n",
    "        a, b = 1, 2\n",
    "        for _ in range(3, n+1):\n",
    "            a, b = b, a + b\n",
    "        return b\n",
    "# 缓存数组\n",
    "    def climbStairs(self, n: int) -> int:\n",
    "        memory = {}\n",
    "        def dfs(i)\n",
    "            if i <= 2:\n",
    "                return i\n",
    "            if i in memory:\n",
    "                return memory[i]\n",
    "            memory[i] = dfs(i-1) + dfs(i-2)\n",
    "            return memory[i]\n",
    "        return dfs(n)\n"
   ],
   "id": "cf824532a278b7b6",
   "outputs": [
    {
     "ename": "SyntaxError",
     "evalue": "expected ':' (364257088.py, line 14)",
     "output_type": "error",
     "traceback": [
      "\u001B[1;36m  Cell \u001B[1;32mIn[7], line 14\u001B[1;36m\u001B[0m\n\u001B[1;33m    def dfs(i)\u001B[0m\n\u001B[1;37m              ^\u001B[0m\n\u001B[1;31mSyntaxError\u001B[0m\u001B[1;31m:\u001B[0m expected ':'\n"
     ]
    }
   ],
   "execution_count": 7
  },
  {
   "metadata": {},
   "cell_type": "code",
   "outputs": [],
   "execution_count": null,
   "source": [
    "# 206 reverselist\n",
    "# Definition for singly-linked list.\n",
    "# class ListNode:\n",
    "#     def __init__(self, val=0, next=None):\n",
    "#         self.val = val\n",
    "#         self.next = next\n",
    "class Solution:\n",
    "    def reverseList(self, head: Optional[ListNode]) -> Optional[ListNode]:\n",
    "        prev = None\n",
    "        p = head\n",
    "        while p:\n",
    "            next_node = p.next\n",
    "            p.next = prev\n",
    "            prev = p\n",
    "            p = next_node\n",
    "\n",
    "        return prev"
   ],
   "id": "88257b643f2e2f6e"
  }
 ],
 "metadata": {
  "kernelspec": {
   "name": "python3",
   "language": "python",
   "display_name": "Python 3 (ipykernel)"
  }
 },
 "nbformat": 5,
 "nbformat_minor": 9
}
